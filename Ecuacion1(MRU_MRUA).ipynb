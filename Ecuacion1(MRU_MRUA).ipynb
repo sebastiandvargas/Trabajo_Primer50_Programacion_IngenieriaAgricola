{
  "nbformat": 4,
  "nbformat_minor": 0,
  "metadata": {
    "colab": {
      "provenance": [],
      "authorship_tag": "ABX9TyPsKrujILGzyM2q2XnYq2Yd",
      "include_colab_link": true
    },
    "kernelspec": {
      "name": "python3",
      "display_name": "Python 3"
    },
    "language_info": {
      "name": "python"
    }
  },
  "cells": [
    {
      "cell_type": "markdown",
      "metadata": {
        "id": "view-in-github",
        "colab_type": "text"
      },
      "source": [
        "<a href=\"https://colab.research.google.com/github/sebastiandvargas/Trabajo_Primer50_Programacion_IngenieriaAgricola/blob/Ecuacion1/Ecuacion1(MRU_MRUA).ipynb\" target=\"_parent\"><img src=\"https://colab.research.google.com/assets/colab-badge.svg\" alt=\"Open In Colab\"/></a>"
      ]
    },
    {
      "cell_type": "markdown",
      "source": [
        "# **Ecuación de MRU / MRUA**\n",
        "\n",
        "La ecuación de la velocidad en función del tiempo para un movimiento rectilíneo uniforme (MRU) es una relación que describe cómo varía la velocidad de un objeto a lo largo del tiempo. La ecuación que mencionas, sin embargo, corresponde a un movimiento rectilíneo uniformemente acelerado (MRUA). Para el MRU, la velocidad es constante, por lo que la ecuación de velocidad no depende del tiempo.\n",
        "\n",
        "ㅤ\n",
        "\n",
        "1. Movimiento Rectilíneo Uniforme (MRU):\n",
        "En el MRU, la velocidad es constante y la ecuación de velocidad se expresa como:\n",
        "\n",
        "$$v(t) = v_0$$\n",
        "\n",
        "\n",
        "Donde:\n",
        "\n",
        "𝑣\n",
        "(\n",
        "𝑡\n",
        ")\n",
        ": velocidad del objeto en cualquier instante de tiempo\n",
        "𝑡\n",
        "t, que en este caso es siempre constante.\n",
        "\n",
        "𝑣\n",
        "0: velocidad inicial o constante del objeto.\n",
        "\n",
        "ㅤ\n",
        "\n",
        "2. Movimiento Rectilíneo Uniformemente Acelerado (MRUA):\n",
        "En el MRUA, el objeto tiene una aceleración constante, lo que significa que su velocidad cambia de manera lineal con el tiempo. La ecuación que describe la velocidad en este caso es:\n",
        "\n",
        "$$v(t) = v_0 + at$$\n",
        "\n",
        "Donde:\n",
        "\n",
        "𝑣\n",
        "(\n",
        "𝑡\n",
        "): velocidad del objeto en el instante de tiempo 𝑡\n",
        "\n",
        "𝑣\n",
        "0\n",
        ": velocidad inicial del objeto (en 𝑡=0).\n",
        "\n",
        "𝑎: aceleración constante del objeto.\n",
        "\n",
        "𝑡: tiempo transcurrido.\n"
      ],
      "metadata": {
        "id": "JjTwBbs7y7cE"
      }
    },
    {
      "cell_type": "code",
      "source": [
        "# prompt: genere un codigo en python sobre la ecucion de MRUA, en donde se puedan configurar las variables de la ecuacion\n",
        "\n",
        "def calcular_velocidad_mrua(velocidad_inicial, aceleracion, tiempo):\n",
        "  \"\"\"Calcula la velocidad en un MRUA.\n",
        "\n",
        "  Args:\n",
        "    velocidad_inicial: Velocidad inicial del objeto.\n",
        "    aceleracion: Aceleración constante del objeto.\n",
        "    tiempo: Tiempo transcurrido.\n",
        "\n",
        "  Returns:\n",
        "    La velocidad del objeto en el tiempo dado.\n",
        "  \"\"\"\n",
        "  velocidad = velocidad_inicial + aceleracion * tiempo\n",
        "  return velocidad\n",
        "\n",
        "# Solicitar al usuario que ingrese los valores de las variables\n",
        "velocidad_inicial = float(input(\"Ingrese la velocidad inicial (m/s): \"))\n",
        "aceleracion = float(input(\"Ingrese la aceleración (m/s^2): \"))\n",
        "tiempo = float(input(\"Ingrese el tiempo (s): \"))\n",
        "\n",
        "# Calcular la velocidad utilizando la función\n",
        "velocidad_final = calcular_velocidad_mrua(velocidad_inicial, aceleracion, tiempo)\n",
        "\n",
        "# Mostrar el resultado\n",
        "print(\"La velocidad final del objeto es:\", velocidad_final, \"m/s\")\n"
      ],
      "metadata": {
        "colab": {
          "base_uri": "https://localhost:8080/"
        },
        "id": "r82GLWcI3GBE",
        "outputId": "1a1f7b5a-4ad8-44de-e840-6677fb9904b9"
      },
      "execution_count": 1,
      "outputs": [
        {
          "output_type": "stream",
          "name": "stdout",
          "text": [
            "Ingrese la velocidad inicial (m/s): 2\n",
            "Ingrese la aceleración (m/s^2): 2\n",
            "Ingrese el tiempo (s): 120\n",
            "La velocidad final del objeto es: 242.0 m/s\n"
          ]
        }
      ]
    }
  ]
}