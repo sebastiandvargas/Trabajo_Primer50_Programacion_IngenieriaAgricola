{
  "nbformat": 4,
  "nbformat_minor": 0,
  "metadata": {
    "colab": {
      "provenance": [],
      "authorship_tag": "ABX9TyPOPTXKxsL5N7uIPpn4JMow",
      "include_colab_link": true
    },
    "kernelspec": {
      "name": "python3",
      "display_name": "Python 3"
    },
    "language_info": {
      "name": "python"
    }
  },
  "cells": [
    {
      "cell_type": "markdown",
      "metadata": {
        "id": "view-in-github",
        "colab_type": "text"
      },
      "source": [
        "<a href=\"https://colab.research.google.com/github/sebastiandvargas/Trabajo_Primer50_Programacion_IngenieriaAgricola/blob/Ecuacion2/Ecuacion2(Ley_de_Berr_Lambert).ipynb\" target=\"_parent\"><img src=\"https://colab.research.google.com/assets/colab-badge.svg\" alt=\"Open In Colab\"/></a>"
      ]
    },
    {
      "cell_type": "markdown",
      "source": [
        "# **Ecuación de la Ley de Beer-Lambert**\n",
        "\n",
        " la Ley de Beer-Lambert, que relaciona la absorbancia con la intensidad de la luz antes y después de pasar por una solución. Esta forma incluye el cálculo explícito de la absorbancia\n",
        "𝐴\n",
        "usando los valores de las intensidades de luz.\n",
        "\n",
        "$$A = \\log \\left( \\frac{I_0}{I} \\right) = \\varepsilon \\cdot c \\cdot l$$\n",
        "\n",
        "Donde:\n",
        "\n",
        "𝐴: Absorbancia, una medida de la cantidad de luz absorbida por la muestra. No tiene unidades.\n",
        "\n",
        "𝐼0: Intensidad de la luz incidente (antes de pasar por la muestra).\n",
        "\n",
        "𝐼: Intensidad de la luz transmitida (después de pasar por la muestra).\n",
        "\n",
        "𝜀 : Coeficiente de absorción molar o absortividad molar, con unidades de\n",
        "L\n",
        "⋅\n",
        "mol\n",
        "−\n",
        "1\n",
        "⋅\n",
        "cm\n",
        "−\n",
        "1: Concentración de la solución en moles por litro (\n",
        "mol\n",
        "⋅\n",
        "L\n",
        "−\n",
        "1).\n",
        "\n",
        "𝑙: Longitud del camino óptico o espesor de la celda en centímetros (\n",
        "cm)."
      ],
      "metadata": {
        "id": "wJVAP0-V1D71"
      }
    },
    {
      "cell_type": "code",
      "source": [
        "# prompt: genere un codigo en python sobre la ecuacion de beer-lambert, y en donde se puedan ingresar los valores de las variables de la ecuacion\n",
        "\n",
        "import math\n",
        "\n",
        "def calcular_absorbancia(I0, I):\n",
        "  \"\"\"Calcula la absorbancia a partir de la intensidad de luz incidente y transmitida.\n",
        "\n",
        "  Args:\n",
        "    I0: Intensidad de la luz incidente.\n",
        "    I: Intensidad de la luz transmitida.\n",
        "\n",
        "  Returns:\n",
        "    La absorbancia calculada.\n",
        "  \"\"\"\n",
        "  if I == 0:\n",
        "    return float('inf')\n",
        "  return math.log10(I0 / I)\n",
        "\n",
        "\n",
        "def calcular_concentracion(A, epsilon, l):\n",
        "  \"\"\"Calcula la concentración a partir de la absorbancia, absortividad molar y longitud del camino óptico.\n",
        "\n",
        "  Args:\n",
        "    A: Absorbancia.\n",
        "    epsilon: Absortividad molar.\n",
        "    l: Longitud del camino óptico.\n",
        "\n",
        "  Returns:\n",
        "    La concentración calculada.\n",
        "  \"\"\"\n",
        "  if epsilon == 0:\n",
        "    return float('inf')\n",
        "  return A / (epsilon * l)\n",
        "\n",
        "\n",
        "if __name__ == \"__main__\":\n",
        "  print(\"Calculadora de la Ley de Beer-Lambert\")\n",
        "\n",
        "  opcion = input(\"¿Qué desea calcular? (absorbancia/concentración): \").lower()\n",
        "\n",
        "  if opcion == \"absorbancia\":\n",
        "    I0 = float(input(\"Ingrese la intensidad de la luz incidente (I0): \"))\n",
        "    I = float(input(\"Ingrese la intensidad de la luz transmitida (I): \"))\n",
        "    A = calcular_absorbancia(I0, I)\n",
        "    print(f\"La absorbancia es: {A}\")\n",
        "  elif opcion == \"concentración\":\n",
        "    A = float(input(\"Ingrese la absorbancia (A): \"))\n",
        "    epsilon = float(input(\"Ingrese la absortividad molar (epsilon): \"))\n",
        "    l = float(input(\"Ingrese la longitud del camino óptico (l): \"))\n",
        "    c = calcular_concentracion(A, epsilon, l)\n",
        "    print(f\"La concentración es: {c} mol/L\")\n",
        "  else:\n",
        "    print(\"Opción inválida.\")\n"
      ],
      "metadata": {
        "colab": {
          "base_uri": "https://localhost:8080/"
        },
        "id": "G7XGfkypAN98",
        "outputId": "3dfd2987-a857-4d48-dccc-97aa4c14a99c"
      },
      "execution_count": 2,
      "outputs": [
        {
          "output_type": "stream",
          "name": "stdout",
          "text": [
            "Calculadora de la Ley de Beer-Lambert\n",
            "¿Qué desea calcular? (absorbancia/concentración): absorbancia\n",
            "Ingrese la intensidad de la luz incidente (I0): 3\n",
            "Ingrese la intensidad de la luz transmitida (I): 2\n",
            "La absorbancia es: 0.17609125905568124\n"
          ]
        }
      ]
    }
  ]
}