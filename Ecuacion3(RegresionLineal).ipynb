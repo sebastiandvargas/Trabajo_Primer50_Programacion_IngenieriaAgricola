{
  "nbformat": 4,
  "nbformat_minor": 0,
  "metadata": {
    "colab": {
      "provenance": [],
      "authorship_tag": "ABX9TyOcj2SFD4DS9jjbetZypEnO",
      "include_colab_link": true
    },
    "kernelspec": {
      "name": "python3",
      "display_name": "Python 3"
    },
    "language_info": {
      "name": "python"
    }
  },
  "cells": [
    {
      "cell_type": "markdown",
      "metadata": {
        "id": "view-in-github",
        "colab_type": "text"
      },
      "source": [
        "<a href=\"https://colab.research.google.com/github/sebastiandvargas/Trabajo_Primer50_Programacion_IngenieriaAgricola/blob/Eciacion3/Ecuacion3(RegresionLineal).ipynb\" target=\"_parent\"><img src=\"https://colab.research.google.com/assets/colab-badge.svg\" alt=\"Open In Colab\"/></a>"
      ]
    },
    {
      "cell_type": "markdown",
      "source": [
        "# **Ecuación de regresión lineal**\n",
        "\n",
        "La ecuación de regresión lineal es una fórmula que describe la relación entre dos variables en una línea recta. Se utiliza para modelar cómo cambia una variable dependiente (\n",
        "𝑦) en función de una variable independiente (\n",
        "𝑥).\n",
        "\n",
        "$$y = mx + b$$\n",
        "\n",
        "Donde:\n",
        "\n",
        "𝑦: Variable dependiente, es el valor que queremos predecir o explicar.\n",
        "\n",
        "𝑥: Variable independiente, es la variable que se usa para predecir\n",
        "\n",
        "𝑚: Pendiente de la línea, que indica la tasa de cambio de\n",
        "𝑦 con respecto a\n",
        "𝑥. Representa cuánto cambia\n",
        "𝑦\n",
        "y por cada unidad adicional de\n",
        "𝑥.\n",
        "\n",
        "𝑏: Intersección con el eje\n",
        "𝑦 o término independiente, es el valor de\n",
        "𝑦 cuando\n",
        "𝑥\n",
        "=0. Es el punto donde la línea cruza el eje\n",
        "𝑦.\n"
      ],
      "metadata": {
        "id": "o6VlZA9L6t41"
      }
    },
    {
      "cell_type": "code",
      "source": [
        "# prompt: genere un codigo en python de la ecuacion de regresion lineal, en donde se puedan ingresar los valores de la variable de la ecuacion\n",
        "\n",
        "def regresion_lineal(x, m, b):\n",
        "  \"\"\"\n",
        "  Calcula el valor de y en la ecuación de regresión lineal.\n",
        "\n",
        "  Args:\n",
        "    x: El valor de la variable independiente.\n",
        "    m: La pendiente de la línea.\n",
        "    b: La intersección con el eje y.\n",
        "\n",
        "  Returns:\n",
        "    El valor de y calculado.\n",
        "  \"\"\"\n",
        "  y = m * x + b\n",
        "  return y\n",
        "\n",
        "# Ejemplo de uso:\n",
        "x_valor = float(input(\"Ingrese el valor de x: \"))\n",
        "m_valor = float(input(\"Ingrese el valor de m (pendiente): \"))\n",
        "b_valor = float(input(\"Ingrese el valor de b (intersección con el eje y): \"))\n",
        "\n",
        "y_valor = regresion_lineal(x_valor, m_valor, b_valor)\n",
        "print(\"El valor de y es:\", y_valor)\n"
      ],
      "metadata": {
        "colab": {
          "base_uri": "https://localhost:8080/"
        },
        "id": "lIIn_NPE7g1V",
        "outputId": "f63bab67-7db8-4f7e-e97b-38bf75fb4268"
      },
      "execution_count": 1,
      "outputs": [
        {
          "output_type": "stream",
          "name": "stdout",
          "text": [
            "Ingrese el valor de x: 4\n",
            "Ingrese el valor de m (pendiente): 2\n",
            "Ingrese el valor de b (intersección con el eje y): 3\n",
            "El valor de y es: 11.0\n"
          ]
        }
      ]
    }
  ]
}